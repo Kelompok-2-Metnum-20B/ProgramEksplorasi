{
  "nbformat": 4,
  "nbformat_minor": 0,
  "metadata": {
    "colab": {
      "provenance": []
    },
    "kernelspec": {
      "name": "python3",
      "display_name": "Python 3"
    },
    "language_info": {
      "name": "python"
    }
  },
  "cells": [
    {
      "cell_type": "markdown",
      "source": [
        "Program Interpolasi Polinom Lagrange"
      ],
      "metadata": {
        "id": "UsGAeosnFmfz"
      }
    },
    {
      "cell_type": "code",
      "source": [
        "import numpy as np\n",
        "\n",
        "degree = int(input('Masukkan derajat: '))\n",
        "n = degree+1\n",
        "x = np.zeros((n))\n",
        "y = np.zeros((n))\n",
        "\n",
        "#Input nilai x dan y\n",
        "print('Inputkan nilai untuk x dan y: ')\n",
        "for i in range(n):\n",
        "    x[i] = float(input('x['+str(i)+']='))\n",
        "    y[i] = float(input('y['+str(i)+']='))\n",
        "xp = float(input('Input nilai x untuk mencari y: '))\n",
        "yp = 0\n",
        "\n",
        "for i in range(n):\n",
        "    p = 1\n",
        "    for j in range(n):\n",
        "        if i!=j:\n",
        "            p = p*(xp-x[j])/(x[i]-x[j])\n",
        "    yp = yp+p*y[i]    \n",
        "\n",
        "print('Hasil interpolasi pada nilai x = %.2f adalah = %.2f.' % (xp, yp))"
      ],
      "metadata": {
        "colab": {
          "base_uri": "https://localhost:8080/"
        },
        "id": "YneMEi8LFviT",
        "outputId": "c373c49e-a68b-4108-fe13-c61b10248d82"
      },
      "execution_count": 2,
      "outputs": [
        {
          "output_type": "stream",
          "name": "stdout",
          "text": [
            "Masukkan derajat: 2\n",
            "Inputkan nilai untuk x dan y: \n",
            "x[0]=12\n",
            "y[0]=22\n",
            "x[1]=24\n",
            "y[1]=18\n",
            "x[2]=42\n",
            "y[2]=20\n",
            "Input nilai x untuk mencari y: 3\n",
            "Hasil interpolasi pada nilai x = 3.00 adalah = 27.80.\n"
          ]
        }
      ]
    }
  ]
}