{
  "nbformat": 4,
  "nbformat_minor": 0,
  "metadata": {
    "colab": {
      "provenance": []
    },
    "kernelspec": {
      "name": "python3",
      "display_name": "Python 3"
    },
    "language_info": {
      "name": "python"
    }
  },
  "cells": [
    {
      "cell_type": "markdown",
      "source": [
        "## **Akar Persamaan Non-Linier**\n",
        "Berikut ini merupakan fungsi dasar dari metode yang dapat digunakan untuk mencari akar Persamaan non-Linier\n",
        "\n",
        "**Penjelasan fungsi atau keyword**\n",
        "- Fungsi abs() mengembalikan nilai absolut dari angka yang diberikan. Jika bilangan tersebut adalah bilangan kompleks, abs() mengembalikan besarnya.\n",
        "- keyword np.sign(f(a)) artinya memanggil fungsi persamaan a\n",
        "- Fungsi Lambda, juga disebut sebagai 'Fungsi anonim' sama dengan fungsi python biasa tetapi dapat didefinisikan tanpa nama. Sementara fungsi normal didefinisikan menggunakan kata kunci def, fungsi anonim didefinisikan menggunakan kata kunci lambda.\n",
        "- SciPy adalah library Python open-source yang digunakan untuk memecahkan masalah ilmiah dan matematika\n",
        "- keyword fslove() berfungsi mencari akar-akar suatu fungsi. Lalu mereturn akar persamaan (non-linier) yang ditentukan oleh func(x) = 0 dengan perkiraan awal.\n",
        "\n",
        "**Penjelasan Variable**\n",
        "- f = menyimpan fungsi persaaan non-linear\n",
        "- a = interval a \n",
        "- b = interval b\n",
        "- m = titik tengah\n",
        "- e = galat\n",
        "- f(a) = hasil fungsi persamaan non-linear interval a\n",
        "- f(b) = hasil fungsi persamaan non-linear interval b\n",
        "- f(m) = hasil fungsi persamaan non-linear titik tengah m"
      ],
      "metadata": {
        "id": "Tlb0XvJxS_oW"
      }
    },
    {
      "cell_type": "markdown",
      "source": [
        "**Pencarian Akar dengan Library**\n",
        "\n",
        "Contoh Fungsi: f(x) = cos(x)-x"
      ],
      "metadata": {
        "id": "8zXDT3F6UTm8"
      }
    },
    {
      "cell_type": "code",
      "source": [
        "import numpy as np #pemanggilan library numpy yang diberi nama np\n",
        "from scipy import optimize #pemanggilan library scipy yang diberi nama optimize\n",
        "f = lambda x: np.cos(x) - x #memasukkan persamaan non-linear cos(x)-x ke var f\n",
        "r = optimize.fsolve(f, -3) #melakukan pencarian akar persamaan dari fungsi yang bernilai x yang kemudian hasilnya di assign ke var r\n",
        "print(\"r =\",r)\n",
        "# Verify the solution is a root\n",
        "result = f(r)\n",
        "print(\"result=\", result)"
      ],
      "metadata": {
        "colab": {
          "base_uri": "https://localhost:8080/"
        },
        "id": "gMnlEqjjUnAa",
        "outputId": "9b1d9333-b4c6-4df4-cdd1-cb8a84487b1c"
      },
      "execution_count": null,
      "outputs": [
        {
          "output_type": "stream",
          "name": "stdout",
          "text": [
            "r = [0.73908513]\n",
            "result= [2.55351296e-15]\n"
          ]
        }
      ]
    },
    {
      "cell_type": "markdown",
      "source": [
        "**Metode Bagi Dua**"
      ],
      "metadata": {
        "id": "ySxrsdzGTn0Z"
      }
    },
    {
      "cell_type": "code",
      "execution_count": null,
      "metadata": {
        "id": "j7lAxfNeS9M0"
      },
      "outputs": [],
      "source": [
        "import numpy as np #panggil library\n",
        "def my_bisection(f, a, b, e): #deklarasi function my_bisection dengan parameter formal f,a,b,e\n",
        "  if np.sign(f(a)) == np.sign(f(b)): #cek apakah f(a) == f(b)\n",
        "    raise Exception('Tidak ada akar pada interval a dan b') \n",
        "  m = (a + b)/2 #perhitungan titik tengah (c) \n",
        "  if np.abs(f(m)) < e: #cek apakah f(m) < e \n",
        "    return m #mengembalikan nilai m\n",
        "  elif np.sign(f(a)) == np.sign(f(m)): #cek jika f(a) == f(m)\n",
        "    return my_bisection(f, m, b, e) #memanggil function my_bisection dengan membawa nilai paramater aktual f,m,b,e\n",
        "  elif np.sign(f(b)) == np.sign(f(m)): #cek apakah f(b) == f(m)\n",
        "    return my_bisection(f, a, m, e) #memanggil function my_bisection dengan membawa nilai paramater aktual f,m,b,e"
      ]
    },
    {
      "cell_type": "markdown",
      "source": [
        "**Contoh Pencarian Akar dengan Metode Bagi Dua**\n",
        "\n",
        "f(x)=x^2 - 2"
      ],
      "metadata": {
        "id": "QK5X5eINXZln"
      }
    },
    {
      "cell_type": "code",
      "source": [
        "import numpy as np #panggil library\n",
        "f = lambda x: x**2-2 #men-assign persamaan non-linear x2-2\n",
        "\n",
        "r1 = my_bisection(f, 0, 6, 0.4) #pemanggilan fungsi my_bisection dengan paramater aktual (f, 0,6,0.4)\n",
        "print(\"r1 =\", r1) #print hasil perhitungan r1 alias hasil perhitungan fungsi my_bisection \n",
        "print(\"f(r1) =\", f(r1)) #print hasil perhitungan fungsi f(r1) \n",
        "\n",
        "r01 = my_bisection(f, 0, 10, 0.08) #pemanggilan fungsi my_bisection dengan paramater aktual (f, 0,10,0.08)\n",
        "print(\"r01 =\", r01) #print hasil perhitungan r01 alias hasil perhitungan fungsi my_bisection\n",
        "print(\"f(r01) =\", f(r01))  #print hasil perhitungan fungsi f(r01) "
      ],
      "metadata": {
        "colab": {
          "base_uri": "https://localhost:8080/"
        },
        "id": "eJr_l7e2XyM0",
        "outputId": "3f10c9d0-26d5-4824-8d2e-97b7ae153222"
      },
      "execution_count": null,
      "outputs": [
        {
          "output_type": "stream",
          "name": "stdout",
          "text": [
            "r1 = 1.5\n",
            "f(r1) = 0.25\n",
            "r01 = 1.40625\n",
            "f(r01) = -0.0224609375\n"
          ]
        }
      ]
    },
    {
      "cell_type": "code",
      "source": [
        "import numpy as np #panggil library\n",
        "f = lambda x: x**2-2 #men-assign persamaan non-linear x2-2\n",
        "my_bisection(f, 2, 4, 0.01)  #pemanggilan fungsi my_bisection dengan paramater aktual (f, 2, 4, 0.01)\n"
      ],
      "metadata": {
        "colab": {
          "base_uri": "https://localhost:8080/"
        },
        "id": "wXEmWDL3Yh1R",
        "outputId": "854dc3a5-76c1-4235-823d-e186b446f7bc"
      },
      "execution_count": null,
      "outputs": [
        {
          "output_type": "execute_result",
          "data": {
            "text/plain": [
              "1.40625"
            ]
          },
          "metadata": {},
          "execution_count": 3
        }
      ]
    },
    {
      "cell_type": "markdown",
      "source": [
        "**Metode Newton-Raphson**"
      ],
      "metadata": {
        "id": "uqd3qNtxS939"
      }
    },
    {
      "cell_type": "code",
      "source": [
        "import numpy as np #panggil library\n",
        "def my_newton(f, df, x0, e):\n",
        "# output is an estimation of the root of f\n",
        "# using the Newton-Raphson method\n",
        "# recursive implementation\n",
        "  if abs(f(x0)) < e: #jika f(x0) < e maka return nilai x0\n",
        "    return x0\n",
        "  else:\n",
        "    return my_newton(f, df, x0 - f(x0)/df(x0), e) #memanggil function my_newton dengan parameter\n",
        "\n",
        "f = lambda x: x**2-2*x-8 #mendefinisikan f(x)=x^2-2\n",
        "f_prime = lambda x: 2*x-2 #mendefinisikan akar dari fungsi persamaan\n",
        "estimate = my_newton(f, f_prime, 4.5, 1e-6) #memanggil function my_newton \n",
        "print(\"estimate =\", estimate) #print hasil estimate dari hasil perhitungan di my_newton\n",
        "print(\"sqrt(2) =\",np.sqrt(2)) #print hasil akar dari hasil perhitungan di my_newton "
      ],
      "metadata": {
        "id": "NWM7-9tpVr0a",
        "colab": {
          "base_uri": "https://localhost:8080/"
        },
        "outputId": "f89cdba1-f35e-4e21-b181-7ad0545f4f45"
      },
      "execution_count": null,
      "outputs": [
        {
          "output_type": "stream",
          "name": "stdout",
          "text": [
            "estimate = 4.000000007355369\n",
            "sqrt(2) = 1.4142135623730951\n"
          ]
        }
      ]
    },
    {
      "cell_type": "markdown",
      "source": [
        "**Contoh Pencarian Akar dengan Metode Raphson**\n",
        "\n",
        "f(x)=x^2 - 2"
      ],
      "metadata": {
        "id": "ffztAnc9ZbtI"
      }
    },
    {
      "cell_type": "code",
      "source": [
        "f = lambda x: x**2-2 #mendefinisikan f(x)=x^2-2\n",
        "f_prime = lambda x: 2*x #mendefinisikan akar dari fungsi persamaan\n",
        "estimate = my_newton(f, f_prime, 1.5, 1e-6) #memanggil function my_newton \n",
        "print(\"estimate =\", estimate) #print hasil estimate dari hasil perhitungan di my_newton\n",
        "print(\"sqrt(2) =\",np.sqrt(2)) #print hasil akar dari hasil perhitungan di my_newton"
      ],
      "metadata": {
        "colab": {
          "base_uri": "https://localhost:8080/"
        },
        "id": "zFJnxIytZhln",
        "outputId": "e6d71caf-ed8a-4bd9-8946-7e39709d49c1"
      },
      "execution_count": null,
      "outputs": [
        {
          "output_type": "stream",
          "name": "stdout",
          "text": [
            "estimate = 1.4142135623746899\n",
            "sqrt(2) = 1.4142135623730951\n"
          ]
        }
      ]
    },
    {
      "cell_type": "code",
      "source": [],
      "metadata": {
        "colab": {
          "base_uri": "https://localhost:8080/",
          "height": 235
        },
        "id": "i3jHewyyf0t5",
        "outputId": "609de75d-7579-45b4-c335-586430395868"
      },
      "execution_count": null,
      "outputs": [
        {
          "output_type": "error",
          "ename": "NameError",
          "evalue": "ignored",
          "traceback": [
            "\u001b[0;31m---------------------------------------------------------------------------\u001b[0m",
            "\u001b[0;31mNameError\u001b[0m                                 Traceback (most recent call last)",
            "\u001b[0;32m<ipython-input-2-0c3ae67c6eb6>\u001b[0m in \u001b[0;36m<module>\u001b[0;34m\u001b[0m\n\u001b[1;32m      1\u001b[0m \u001b[0mf\u001b[0m \u001b[0;34m=\u001b[0m \u001b[0;32mlambda\u001b[0m \u001b[0mx\u001b[0m\u001b[0;34m:\u001b[0m \u001b[0mx\u001b[0m\u001b[0;34m**\u001b[0m\u001b[0;36m2\u001b[0m\u001b[0;34m-\u001b[0m\u001b[0;36m2\u001b[0m\u001b[0;34m*\u001b[0m\u001b[0mx\u001b[0m\u001b[0;34m-\u001b[0m\u001b[0;36m8\u001b[0m \u001b[0;31m#mendefinisikan f(x)=x^2-2\u001b[0m\u001b[0;34m\u001b[0m\u001b[0;34m\u001b[0m\u001b[0m\n\u001b[1;32m      2\u001b[0m \u001b[0mf_prime\u001b[0m \u001b[0;34m=\u001b[0m \u001b[0;32mlambda\u001b[0m \u001b[0mx\u001b[0m\u001b[0;34m:\u001b[0m \u001b[0;36m2\u001b[0m\u001b[0;34m*\u001b[0m\u001b[0mx\u001b[0m\u001b[0;34m-\u001b[0m\u001b[0;36m2\u001b[0m \u001b[0;31m#mendefinisikan akar dari fungsi persamaan\u001b[0m\u001b[0;34m\u001b[0m\u001b[0;34m\u001b[0m\u001b[0m\n\u001b[0;32m----> 3\u001b[0;31m \u001b[0mestimate\u001b[0m \u001b[0;34m=\u001b[0m \u001b[0mmy_newton\u001b[0m\u001b[0;34m(\u001b[0m\u001b[0mf\u001b[0m\u001b[0;34m,\u001b[0m \u001b[0mf_prime\u001b[0m\u001b[0;34m,\u001b[0m \u001b[0;36m4.5\u001b[0m\u001b[0;34m,\u001b[0m \u001b[0;36m1e-6\u001b[0m\u001b[0;34m)\u001b[0m \u001b[0;31m#memanggil function my_newton\u001b[0m\u001b[0;34m\u001b[0m\u001b[0;34m\u001b[0m\u001b[0m\n\u001b[0m\u001b[1;32m      4\u001b[0m \u001b[0mprint\u001b[0m\u001b[0;34m(\u001b[0m\u001b[0;34m\"estimate =\"\u001b[0m\u001b[0;34m,\u001b[0m \u001b[0mestimate\u001b[0m\u001b[0;34m)\u001b[0m \u001b[0;31m#print hasil estimate dari hasil perhitungan di my_newton\u001b[0m\u001b[0;34m\u001b[0m\u001b[0;34m\u001b[0m\u001b[0m\n\u001b[1;32m      5\u001b[0m \u001b[0mprint\u001b[0m\u001b[0;34m(\u001b[0m\u001b[0;34m\"sqrt(2) =\"\u001b[0m\u001b[0;34m,\u001b[0m\u001b[0mnp\u001b[0m\u001b[0;34m.\u001b[0m\u001b[0msqrt\u001b[0m\u001b[0;34m(\u001b[0m\u001b[0;36m2\u001b[0m\u001b[0;34m)\u001b[0m\u001b[0;34m)\u001b[0m \u001b[0;31m#print hasil akar dari hasil perhitungan di my_newton\u001b[0m\u001b[0;34m\u001b[0m\u001b[0;34m\u001b[0m\u001b[0m\n",
            "\u001b[0;31mNameError\u001b[0m: name 'my_newton' is not defined"
          ]
        }
      ]
    },
    {
      "cell_type": "markdown",
      "source": [
        "# **Latihan**"
      ],
      "metadata": {
        "id": "_l79MbNaaO9N"
      }
    },
    {
      "cell_type": "markdown",
      "source": [
        "**No.1 **\n",
        "Buatlah sebuah fungsi penyelesaian yang tepat baik dengan menggunakan metode Bagi Dua maupun Newton Raphson ketika \n",
        "\n",
        "a. f(x) = x^3 - 2x + 1\n",
        "\n",
        "b. f(x) = e^x - x\n",
        "\n",
        "**No 2**\n",
        "\n",
        "Buatlah modifikasi fungsi ketika kriteria program berhenti adalah sudah mencapai pada iterasi ke-n baik untuk Bagi Dua maupun Newton Raphson"
      ],
      "metadata": {
        "id": "XX6f9MQOaTas"
      }
    },
    {
      "cell_type": "markdown",
      "source": [
        "**No.1 - Bagi Dua**\n",
        "\n",
        "\n",
        "f(x) = x^3 - 2x + 1\n"
      ],
      "metadata": {
        "id": "mp0Jo9mrIW4T"
      }
    },
    {
      "cell_type": "code",
      "source": [
        "import numpy as np #panggil library\n",
        "\n",
        "def my_bisection(f, a, b, e): #deklarasi function my_bisection dengan parameter formal f,a,b,e\n",
        "  if np.sign(f(a)) == np.sign(f(b)): #cek apakah f(a) == f(b)\n",
        "    raise Exception('Tidak ada akar pada interval a dan b') \n",
        "  m = (a + b)/2 #perhitungan titik tengah (c) \n",
        "  if np.abs(f(m)) < e: #cek apakah f(m) < e \n",
        "    return m #mengembalikan nilai m\n",
        "  elif np.sign(f(a)) == np.sign(f(m)): #cek jika f(a) == f(m)\n",
        "    return my_bisection(f, m, b, e) #memanggil function my_bisection dengan membawa nilai paramater aktual f,m,b,e\n",
        "  elif np.sign(f(b)) == np.sign(f(m)): #cek apakah f(b) == f(m)\n",
        "    return my_bisection(f, a, m, e) #memanggil function my_bisection dengan membawa nilai paramater aktual f,m,b,e\n",
        "\n",
        "f = lambda x: x**3-2*x+1 #men-assign persamaan non-linear \n",
        "r1 = my_bisection(f, -2, 0, 0.1) #pemanggilan fungsi my_bisection dengan paramater aktual \n",
        "print(\"r1 =\", r1) #print hasil perhitungan r1 alias hasil perhitungan fungsi my_bisection \n",
        "print(\"f(r1) =\", f(r1)) #print hasil perhitungan fungsi f(r1) "
      ],
      "metadata": {
        "id": "MjocESJra-b5",
        "colab": {
          "base_uri": "https://localhost:8080/"
        },
        "outputId": "26a29514-c7f3-47b1-90ef-d13b06fececa"
      },
      "execution_count": null,
      "outputs": [
        {
          "output_type": "stream",
          "name": "stdout",
          "text": [
            "r1 = -1.625\n",
            "f(r1) = -0.041015625\n"
          ]
        }
      ]
    },
    {
      "cell_type": "markdown",
      "source": [
        "**No.1 - Bagi Dua**\n",
        "\n",
        "f(x) = e^x-x"
      ],
      "metadata": {
        "id": "9H0mPAMDRmHX"
      }
    },
    {
      "cell_type": "code",
      "source": [
        "import numpy as np #panggil library\n",
        "import math \n",
        "\n",
        "f = lambda x: math.exp(x)-x #men-assign persamaan non-linear \n",
        "r1 = my_bisection(f, 0, 2, 0.1) #pemanggilan fungsi my_bisection dengan paramater aktual (f, 0,6,0.4)\n",
        "print(\"r1 =\", r1) #print hasil perhitungan r1 alias hasil perhitungan fungsi my_bisection \n",
        "print(\"f(r1) =\", f(r1)) #print hasil perhitungan fungsi f(r1) "
      ],
      "metadata": {
        "colab": {
          "base_uri": "https://localhost:8080/",
          "height": 357
        },
        "id": "MJv_YMsTPV19",
        "outputId": "2dab9e94-370e-42a4-8317-d79191d2b3b9"
      },
      "execution_count": null,
      "outputs": [
        {
          "output_type": "error",
          "ename": "Exception",
          "evalue": "ignored",
          "traceback": [
            "\u001b[0;31m---------------------------------------------------------------------------\u001b[0m",
            "\u001b[0;31mException\u001b[0m                                 Traceback (most recent call last)",
            "\u001b[0;32m<ipython-input-14-251bb71f0781>\u001b[0m in \u001b[0;36m<module>\u001b[0;34m\u001b[0m\n\u001b[1;32m      3\u001b[0m \u001b[0;34m\u001b[0m\u001b[0m\n\u001b[1;32m      4\u001b[0m \u001b[0mf\u001b[0m \u001b[0;34m=\u001b[0m \u001b[0;32mlambda\u001b[0m \u001b[0mx\u001b[0m\u001b[0;34m:\u001b[0m \u001b[0mmath\u001b[0m\u001b[0;34m.\u001b[0m\u001b[0mexp\u001b[0m\u001b[0;34m(\u001b[0m\u001b[0mx\u001b[0m\u001b[0;34m)\u001b[0m\u001b[0;34m-\u001b[0m\u001b[0mx\u001b[0m \u001b[0;31m#men-assign persamaan non-linear\u001b[0m\u001b[0;34m\u001b[0m\u001b[0;34m\u001b[0m\u001b[0m\n\u001b[0;32m----> 5\u001b[0;31m \u001b[0mr1\u001b[0m \u001b[0;34m=\u001b[0m \u001b[0mmy_bisection\u001b[0m\u001b[0;34m(\u001b[0m\u001b[0mf\u001b[0m\u001b[0;34m,\u001b[0m \u001b[0;36m0\u001b[0m\u001b[0;34m,\u001b[0m \u001b[0;36m2\u001b[0m\u001b[0;34m,\u001b[0m \u001b[0;36m0.1\u001b[0m\u001b[0;34m)\u001b[0m \u001b[0;31m#pemanggilan fungsi my_bisection dengan paramater aktual (f, 0,6,0.4)\u001b[0m\u001b[0;34m\u001b[0m\u001b[0;34m\u001b[0m\u001b[0m\n\u001b[0m\u001b[1;32m      6\u001b[0m \u001b[0mprint\u001b[0m\u001b[0;34m(\u001b[0m\u001b[0;34m\"r1 =\"\u001b[0m\u001b[0;34m,\u001b[0m \u001b[0mr1\u001b[0m\u001b[0;34m)\u001b[0m \u001b[0;31m#print hasil perhitungan r1 alias hasil perhitungan fungsi my_bisection\u001b[0m\u001b[0;34m\u001b[0m\u001b[0;34m\u001b[0m\u001b[0m\n\u001b[1;32m      7\u001b[0m \u001b[0mprint\u001b[0m\u001b[0;34m(\u001b[0m\u001b[0;34m\"f(r1) =\"\u001b[0m\u001b[0;34m,\u001b[0m \u001b[0mf\u001b[0m\u001b[0;34m(\u001b[0m\u001b[0mr1\u001b[0m\u001b[0;34m)\u001b[0m\u001b[0;34m)\u001b[0m \u001b[0;31m#print hasil perhitungan fungsi f(r1)\u001b[0m\u001b[0;34m\u001b[0m\u001b[0;34m\u001b[0m\u001b[0m\n",
            "\u001b[0;32m<ipython-input-7-847fdecbc316>\u001b[0m in \u001b[0;36mmy_bisection\u001b[0;34m(f, a, b, e)\u001b[0m\n\u001b[1;32m      3\u001b[0m \u001b[0;32mdef\u001b[0m \u001b[0mmy_bisection\u001b[0m\u001b[0;34m(\u001b[0m\u001b[0mf\u001b[0m\u001b[0;34m,\u001b[0m \u001b[0ma\u001b[0m\u001b[0;34m,\u001b[0m \u001b[0mb\u001b[0m\u001b[0;34m,\u001b[0m \u001b[0me\u001b[0m\u001b[0;34m)\u001b[0m\u001b[0;34m:\u001b[0m \u001b[0;31m#deklarasi function my_bisection dengan parameter formal f,a,b,e\u001b[0m\u001b[0;34m\u001b[0m\u001b[0;34m\u001b[0m\u001b[0m\n\u001b[1;32m      4\u001b[0m   \u001b[0;32mif\u001b[0m \u001b[0mnp\u001b[0m\u001b[0;34m.\u001b[0m\u001b[0msign\u001b[0m\u001b[0;34m(\u001b[0m\u001b[0mf\u001b[0m\u001b[0;34m(\u001b[0m\u001b[0ma\u001b[0m\u001b[0;34m)\u001b[0m\u001b[0;34m)\u001b[0m \u001b[0;34m==\u001b[0m \u001b[0mnp\u001b[0m\u001b[0;34m.\u001b[0m\u001b[0msign\u001b[0m\u001b[0;34m(\u001b[0m\u001b[0mf\u001b[0m\u001b[0;34m(\u001b[0m\u001b[0mb\u001b[0m\u001b[0;34m)\u001b[0m\u001b[0;34m)\u001b[0m\u001b[0;34m:\u001b[0m \u001b[0;31m#cek apakah f(a) == f(b)\u001b[0m\u001b[0;34m\u001b[0m\u001b[0;34m\u001b[0m\u001b[0m\n\u001b[0;32m----> 5\u001b[0;31m     \u001b[0;32mraise\u001b[0m \u001b[0mException\u001b[0m\u001b[0;34m(\u001b[0m\u001b[0;34m'Tidak ada akar pada interval a dan b'\u001b[0m\u001b[0;34m)\u001b[0m\u001b[0;34m\u001b[0m\u001b[0;34m\u001b[0m\u001b[0m\n\u001b[0m\u001b[1;32m      6\u001b[0m   \u001b[0mm\u001b[0m \u001b[0;34m=\u001b[0m \u001b[0;34m(\u001b[0m\u001b[0ma\u001b[0m \u001b[0;34m+\u001b[0m \u001b[0mb\u001b[0m\u001b[0;34m)\u001b[0m\u001b[0;34m/\u001b[0m\u001b[0;36m2\u001b[0m \u001b[0;31m#perhitungan titik tengah (c)\u001b[0m\u001b[0;34m\u001b[0m\u001b[0;34m\u001b[0m\u001b[0m\n\u001b[1;32m      7\u001b[0m   \u001b[0;32mif\u001b[0m \u001b[0mnp\u001b[0m\u001b[0;34m.\u001b[0m\u001b[0mabs\u001b[0m\u001b[0;34m(\u001b[0m\u001b[0mf\u001b[0m\u001b[0;34m(\u001b[0m\u001b[0mm\u001b[0m\u001b[0;34m)\u001b[0m\u001b[0;34m)\u001b[0m \u001b[0;34m<\u001b[0m \u001b[0me\u001b[0m\u001b[0;34m:\u001b[0m \u001b[0;31m#cek apakah f(m) < e\u001b[0m\u001b[0;34m\u001b[0m\u001b[0;34m\u001b[0m\u001b[0m\n",
            "\u001b[0;31mException\u001b[0m: Tidak ada akar pada interval a dan b"
          ]
        }
      ]
    },
    {
      "cell_type": "markdown",
      "source": [
        "**No.1 -  Raphson**\n",
        "f(x) = x^3 - 2x + 1"
      ],
      "metadata": {
        "id": "0awwveUESmtk"
      }
    },
    {
      "cell_type": "code",
      "source": [
        "import numpy as np #panggil library\n",
        "def my_newton(f, df, x0, e):\n",
        "# output is an estimation of the root of f\n",
        "# using the Newton-Raphson method\n",
        "# recursive implementation\n",
        "  if abs(f(x0)) < e: #jika f(x0) < e maka return nilai x0\n",
        "    return x0\n",
        "  else:\n",
        "    return my_newton(f, df, x0 - f(x0)/df(x0), e) "
      ],
      "metadata": {
        "id": "lu3n6YE9SmDP"
      },
      "execution_count": null,
      "outputs": []
    },
    {
      "cell_type": "code",
      "source": [
        "f = lambda x: x**3-2*x+1\n",
        "f_prime = lambda x: 2*x\n",
        "estimate = my_newton(f, f_prime, 1.5, 1e-6)\n",
        "print(\"estimate =\", estimate)\n",
        "print(\"sqrt(2) =\",np.sqrt(2))"
      ],
      "metadata": {
        "colab": {
          "base_uri": "https://localhost:8080/"
        },
        "id": "0r5Es3ijTCT-",
        "outputId": "9c1f4d34-180e-4c86-b1c5-c522e4a721bb"
      },
      "execution_count": null,
      "outputs": [
        {
          "output_type": "stream",
          "name": "stdout",
          "text": [
            "estimate = 1.0000005416073046\n",
            "sqrt(2) = 1.4142135623730951\n"
          ]
        }
      ]
    },
    {
      "cell_type": "markdown",
      "source": [
        "**No.1 -  Raphson**\n",
        "f(x) = e^x-x"
      ],
      "metadata": {
        "id": "o7DvC9tUVbXr"
      }
    },
    {
      "cell_type": "code",
      "source": [
        "import math \n",
        "f = lambda x: math.exp(x)-x\n",
        "f_prime = lambda x: 2*x\n",
        "estimate = my_newton(f, f_prime, 1.5, 1e-6)\n",
        "print(\"estimate =\", estimate)\n",
        "print(\"sqrt(2) =\",np.sqrt(2))"
      ],
      "metadata": {
        "colab": {
          "base_uri": "https://localhost:8080/",
          "height": 467
        },
        "id": "HeVlPf12Vel7",
        "outputId": "11be07d8-ef5f-4853-8987-b416d4fa97e4"
      },
      "execution_count": null,
      "outputs": [
        {
          "output_type": "error",
          "ename": "RecursionError",
          "evalue": "ignored",
          "traceback": [
            "\u001b[0;31m---------------------------------------------------------------------------\u001b[0m",
            "\u001b[0;31mRecursionError\u001b[0m                            Traceback (most recent call last)",
            "\u001b[0;32m<ipython-input-13-1323e470f018>\u001b[0m in \u001b[0;36m<module>\u001b[0;34m\u001b[0m\n\u001b[1;32m      2\u001b[0m \u001b[0mf\u001b[0m \u001b[0;34m=\u001b[0m \u001b[0;32mlambda\u001b[0m \u001b[0mx\u001b[0m\u001b[0;34m:\u001b[0m \u001b[0mmath\u001b[0m\u001b[0;34m.\u001b[0m\u001b[0mexp\u001b[0m\u001b[0;34m(\u001b[0m\u001b[0mx\u001b[0m\u001b[0;34m)\u001b[0m\u001b[0;34m-\u001b[0m\u001b[0mx\u001b[0m\u001b[0;34m\u001b[0m\u001b[0;34m\u001b[0m\u001b[0m\n\u001b[1;32m      3\u001b[0m \u001b[0mf_prime\u001b[0m \u001b[0;34m=\u001b[0m \u001b[0;32mlambda\u001b[0m \u001b[0mx\u001b[0m\u001b[0;34m:\u001b[0m \u001b[0;36m2\u001b[0m\u001b[0;34m*\u001b[0m\u001b[0mx\u001b[0m\u001b[0;34m\u001b[0m\u001b[0;34m\u001b[0m\u001b[0m\n\u001b[0;32m----> 4\u001b[0;31m \u001b[0mestimate\u001b[0m \u001b[0;34m=\u001b[0m \u001b[0mmy_newton\u001b[0m\u001b[0;34m(\u001b[0m\u001b[0mf\u001b[0m\u001b[0;34m,\u001b[0m \u001b[0mf_prime\u001b[0m\u001b[0;34m,\u001b[0m \u001b[0;36m1.5\u001b[0m\u001b[0;34m,\u001b[0m \u001b[0;36m1e-6\u001b[0m\u001b[0;34m)\u001b[0m\u001b[0;34m\u001b[0m\u001b[0;34m\u001b[0m\u001b[0m\n\u001b[0m\u001b[1;32m      5\u001b[0m \u001b[0mprint\u001b[0m\u001b[0;34m(\u001b[0m\u001b[0;34m\"estimate =\"\u001b[0m\u001b[0;34m,\u001b[0m \u001b[0mestimate\u001b[0m\u001b[0;34m)\u001b[0m\u001b[0;34m\u001b[0m\u001b[0;34m\u001b[0m\u001b[0m\n\u001b[1;32m      6\u001b[0m \u001b[0mprint\u001b[0m\u001b[0;34m(\u001b[0m\u001b[0;34m\"sqrt(2) =\"\u001b[0m\u001b[0;34m,\u001b[0m\u001b[0mnp\u001b[0m\u001b[0;34m.\u001b[0m\u001b[0msqrt\u001b[0m\u001b[0;34m(\u001b[0m\u001b[0;36m2\u001b[0m\u001b[0;34m)\u001b[0m\u001b[0;34m)\u001b[0m\u001b[0;34m\u001b[0m\u001b[0;34m\u001b[0m\u001b[0m\n",
            "\u001b[0;32m<ipython-input-11-1de809b9f69f>\u001b[0m in \u001b[0;36mmy_newton\u001b[0;34m(f, df, x0, e)\u001b[0m\n\u001b[1;32m      7\u001b[0m     \u001b[0;32mreturn\u001b[0m \u001b[0mx0\u001b[0m\u001b[0;34m\u001b[0m\u001b[0;34m\u001b[0m\u001b[0m\n\u001b[1;32m      8\u001b[0m   \u001b[0;32melse\u001b[0m\u001b[0;34m:\u001b[0m\u001b[0;34m\u001b[0m\u001b[0;34m\u001b[0m\u001b[0m\n\u001b[0;32m----> 9\u001b[0;31m     \u001b[0;32mreturn\u001b[0m \u001b[0mmy_newton\u001b[0m\u001b[0;34m(\u001b[0m\u001b[0mf\u001b[0m\u001b[0;34m,\u001b[0m \u001b[0mdf\u001b[0m\u001b[0;34m,\u001b[0m \u001b[0mx0\u001b[0m \u001b[0;34m-\u001b[0m \u001b[0mf\u001b[0m\u001b[0;34m(\u001b[0m\u001b[0mx0\u001b[0m\u001b[0;34m)\u001b[0m\u001b[0;34m/\u001b[0m\u001b[0mdf\u001b[0m\u001b[0;34m(\u001b[0m\u001b[0mx0\u001b[0m\u001b[0;34m)\u001b[0m\u001b[0;34m,\u001b[0m \u001b[0me\u001b[0m\u001b[0;34m)\u001b[0m\u001b[0;34m\u001b[0m\u001b[0;34m\u001b[0m\u001b[0m\n\u001b[0m",
            "... last 1 frames repeated, from the frame below ...\n",
            "\u001b[0;32m<ipython-input-11-1de809b9f69f>\u001b[0m in \u001b[0;36mmy_newton\u001b[0;34m(f, df, x0, e)\u001b[0m\n\u001b[1;32m      7\u001b[0m     \u001b[0;32mreturn\u001b[0m \u001b[0mx0\u001b[0m\u001b[0;34m\u001b[0m\u001b[0;34m\u001b[0m\u001b[0m\n\u001b[1;32m      8\u001b[0m   \u001b[0;32melse\u001b[0m\u001b[0;34m:\u001b[0m\u001b[0;34m\u001b[0m\u001b[0;34m\u001b[0m\u001b[0m\n\u001b[0;32m----> 9\u001b[0;31m     \u001b[0;32mreturn\u001b[0m \u001b[0mmy_newton\u001b[0m\u001b[0;34m(\u001b[0m\u001b[0mf\u001b[0m\u001b[0;34m,\u001b[0m \u001b[0mdf\u001b[0m\u001b[0;34m,\u001b[0m \u001b[0mx0\u001b[0m \u001b[0;34m-\u001b[0m \u001b[0mf\u001b[0m\u001b[0;34m(\u001b[0m\u001b[0mx0\u001b[0m\u001b[0;34m)\u001b[0m\u001b[0;34m/\u001b[0m\u001b[0mdf\u001b[0m\u001b[0;34m(\u001b[0m\u001b[0mx0\u001b[0m\u001b[0;34m)\u001b[0m\u001b[0;34m,\u001b[0m \u001b[0me\u001b[0m\u001b[0;34m)\u001b[0m\u001b[0;34m\u001b[0m\u001b[0;34m\u001b[0m\u001b[0m\n\u001b[0m",
            "\u001b[0;31mRecursionError\u001b[0m: maximum recursion depth exceeded while calling a Python object"
          ]
        }
      ]
    },
    {
      "cell_type": "markdown",
      "source": [
        "**No 2 - Bisection Method**\n"
      ],
      "metadata": {
        "id": "jJXDavi_XpW_"
      }
    },
    {
      "cell_type": "code",
      "source": [
        "#Bisection Method\n",
        "def bisection(x0,x1,e):\n",
        "    step = 1\n",
        "    print('** BISECTION METHOD**')\n",
        "    condition = True\n",
        "    while condition:\n",
        "        x2 = (x0 + x1)/2\n",
        "        print('Iteraasi-%d, x2 = %0.6f and f(x2) = %0.6f' % (step, x2, f(x2)))\n",
        "\n",
        "        if f(x0) * f(x2) < 0:\n",
        "            x1 = x2\n",
        "        else:\n",
        "            x0 = x2\n",
        "        \n",
        "        step = step + 1\n",
        "        condition = (abs(f(x2)) > e)and(step<=4) #loop berhenti ketika iterasi sudah ke-4\n",
        "\n",
        "    print('\\nAkar adalah : %0.4f' % x2)"
      ],
      "metadata": {
        "id": "8UKADlVTXqJv"
      },
      "execution_count": null,
      "outputs": []
    },
    {
      "cell_type": "code",
      "source": [
        "#defisini fungsi\n",
        "def f(x):\n",
        "    return x**3-5*x-9\n",
        "x0=2 #definisi nilai interval awal (a)\n",
        "x1=3 #definis nilai interval akhir (b)\n",
        "e=0.00001 #definisi galat\n",
        "\n",
        "if f(x0) * f(x1) > 0.0: #cek apakah interval sesuai/bisa digunakan untuk menemukan akar\n",
        "    print('Interval salah, coba nilai lain.')\n",
        "else:\n",
        "    bisection(x0,x1,e)"
      ],
      "metadata": {
        "colab": {
          "base_uri": "https://localhost:8080/"
        },
        "id": "mFvuAlF5ZWlE",
        "outputId": "a670fdd2-59be-45fd-98bc-03d2081e3878"
      },
      "execution_count": null,
      "outputs": [
        {
          "output_type": "stream",
          "name": "stdout",
          "text": [
            "** BISECTION METHOD**\n",
            "Iteraasi-1, x2 = 2.500000 and f(x2) = -5.875000\n",
            "Iteraasi-2, x2 = 2.750000 and f(x2) = -1.953125\n",
            "Iteraasi-3, x2 = 2.875000 and f(x2) = 0.388672\n",
            "Iteraasi-4, x2 = 2.812500 and f(x2) = -0.815186\n",
            "\n",
            "Akar adalah : 2.8125\n"
          ]
        }
      ]
    },
    {
      "cell_type": "markdown",
      "source": [
        "**No.2 - Newton Raphson**"
      ],
      "metadata": {
        "id": "__IzqDclbUfK"
      }
    },
    {
      "cell_type": "code",
      "source": [
        "#definisi fungsi persamaan\n",
        "def f(x):\n",
        "    return x**3 - 5*x - 9\n",
        "\n",
        "# definisi derivative dari fungsi persamaan\n",
        "def g(x):\n",
        "    return 3*x**2 - 5\n",
        "\n",
        "#definis fungsi newtonRaphson\n",
        "def newtonRaphson(x0,e,maxInter):\n",
        "    print('** NEWTON RAPHSON METHOD **')\n",
        "    step = 1 #jumlah iterasi\n",
        "    flag = 1\n",
        "    condition = True\n",
        "    while condition: #looping kondisi \n",
        "        if g(x0) == 0.0:\n",
        "            print('Dibagi nol=error!')\n",
        "            break\n",
        "        \n",
        "        x1 = x0 - f(x0)/g(x0)\n",
        "        print('Iterasi-%d, x1 = %0.6f and f(x1) = %0.4f' % (step, x1, f(x1)))\n",
        "        x0 = x1\n",
        "        step = step + 1\n",
        "        \n",
        "        if step > maxInter:\n",
        "            flag = 0\n",
        "            break\n",
        "        \n",
        "        condition = abs(f(x1)) > e\n",
        "\n",
        "        if flag==1:\n",
        "          print('\\nAkar : %0.4f' % x1)\n",
        "        else:\n",
        "            print('\\nTidak Konvergen.')\n",
        "        \n",
        "x0=2 #nilai interval\n",
        "e=0.000001 #galat\n",
        "maxInter=4 #jumlah maximal iterasi\n",
        "\n",
        "#memanggil function newtonRaphson dengan parameter \n",
        "newtonRaphson(x0,e,maxInter)"
      ],
      "metadata": {
        "colab": {
          "base_uri": "https://localhost:8080/"
        },
        "id": "y7GIMjBQbU5A",
        "outputId": "e27192cd-ba9e-4ff5-96e1-2435bd6fd80d"
      },
      "execution_count": null,
      "outputs": [
        {
          "output_type": "stream",
          "name": "stdout",
          "text": [
            "** NEWTON RAPHSON METHOD **\n",
            "Iterasi-1, x1 = 3.571429 and f(x1) = 18.6968\n",
            "\n",
            "Akar : 3.5714\n",
            "Iterasi-2, x1 = 3.009378 and f(x1) = 3.2071\n",
            "\n",
            "Akar : 3.0094\n",
            "Iterasi-3, x1 = 2.864712 and f(x1) = 0.1859\n",
            "\n",
            "Akar : 2.8647\n",
            "Iterasi-4, x1 = 2.855236 and f(x1) = 0.0008\n"
          ]
        }
      ]
    }
  ]
}